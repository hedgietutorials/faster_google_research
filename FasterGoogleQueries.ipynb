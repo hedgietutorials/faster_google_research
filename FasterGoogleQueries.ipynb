{
  "nbformat": 4,
  "nbformat_minor": 0,
  "metadata": {
    "colab": {
      "provenance": []
    },
    "kernelspec": {
      "name": "python3",
      "display_name": "Python 3"
    },
    "language_info": {
      "name": "python"
    }
  },
  "cells": [
    {
      "cell_type": "markdown",
      "source": [
        "<a href=\"https://colab.research.google.com/github/hedgietutorials/faster_google_searches/blob/main/FasterGoogleQueries.ipynb\" target=\"_parent\"><img src=\"https://colab.research.google.com/assets/colab-badge.svg\" alt=\"Open In Colab\"/></a>"
      ],
      "metadata": {
        "id": "view-in-github",
        "colab_type": "text"
      }
    },
    {
      "cell_type": "code",
      "execution_count": 14,
      "metadata": {
        "id": "5VgPDTCcaAYp"
      },
      "outputs": [],
      "source": [
        "# Things you are looking for, feel free to change or add, or remove\n",
        "\n",
        "## CHANGE ME\n",
        "key_terms = [\n",
        "  'clothing',\n",
        "  'outerwear',\n",
        "  'streetwear'\n",
        "]"
      ]
    },
    {
      "cell_type": "code",
      "source": [
        "# additional detail like color, brand, style.\n",
        "\n",
        "## CHANGE ME\n",
        "additional_terms = [\n",
        "   'orange',\n",
        "   'teal',\n",
        "   'purple',\n",
        "   'green'\n",
        "]"
      ],
      "metadata": {
        "id": "ezGIx0SVbZPw"
      },
      "execution_count": 30,
      "outputs": []
    },
    {
      "cell_type": "code",
      "source": [
        "### Leave this as-is\n",
        "base_url = 'https://www.google.com/search?q='\n"
      ],
      "metadata": {
        "id": "r9itCsWJbihu"
      },
      "execution_count": 34,
      "outputs": []
    },
    {
      "cell_type": "markdown",
      "source": [
        "### Basic Query\n",
        "\n"
      ],
      "metadata": {
        "id": "uTUV8dwHjMxC"
      }
    },
    {
      "cell_type": "code",
      "source": [
        "for k in key_terms:\n",
        "  for a in additional_terms:\n",
        "    url = '{}\"{}\"+\"{}\"'.format(base_url, a, k).replace(' ', '%20').replace('\"', '%22')\n",
        "    print(k, a, url)"
      ],
      "metadata": {
        "colab": {
          "base_uri": "https://localhost:8080/"
        },
        "id": "GZMtint_jWiQ",
        "outputId": "43a472dc-b1a3-4f2b-c24b-7baf5ba8ac64"
      },
      "execution_count": 35,
      "outputs": [
        {
          "output_type": "stream",
          "name": "stdout",
          "text": [
            "clothing orange https://www.google.com/search?q=%22orange%22+%22clothing%22\n",
            "clothing teal https://www.google.com/search?q=%22teal%22+%22clothing%22\n",
            "clothing purple https://www.google.com/search?q=%22purple%22+%22clothing%22\n",
            "clothing green https://www.google.com/search?q=%22green%22+%22clothing%22\n",
            "outerwear orange https://www.google.com/search?q=%22orange%22+%22outerwear%22\n",
            "outerwear teal https://www.google.com/search?q=%22teal%22+%22outerwear%22\n",
            "outerwear purple https://www.google.com/search?q=%22purple%22+%22outerwear%22\n",
            "outerwear green https://www.google.com/search?q=%22green%22+%22outerwear%22\n",
            "streetwear orange https://www.google.com/search?q=%22orange%22+%22streetwear%22\n",
            "streetwear teal https://www.google.com/search?q=%22teal%22+%22streetwear%22\n",
            "streetwear purple https://www.google.com/search?q=%22purple%22+%22streetwear%22\n",
            "streetwear green https://www.google.com/search?q=%22green%22+%22streetwear%22\n"
          ]
        }
      ]
    },
    {
      "cell_type": "markdown",
      "source": [
        "### Basic Query + Theme (like Christmas 2022)"
      ],
      "metadata": {
        "id": "3leU0s1FjhdN"
      }
    },
    {
      "cell_type": "code",
      "source": [
        "## CHANGE ME\n",
        "main_theme = 'christmas 2022'\n",
        "## STOP\n",
        "\n",
        "for k in key_terms:\n",
        "  for a in additional_terms:\n",
        "    url = '{}\"{}\"+\"{}\"+\"{}\"'.format(base_url, a, k, main_theme).replace(' ', '%20').replace('\"', '%22')\n",
        "    print(k, a, main_theme, url)"
      ],
      "metadata": {
        "colab": {
          "base_uri": "https://localhost:8080/"
        },
        "id": "L9hbauzyjvYe",
        "outputId": "fe3de8c6-6af9-4fac-d0fc-88d4f64fa091"
      },
      "execution_count": 37,
      "outputs": [
        {
          "output_type": "stream",
          "name": "stdout",
          "text": [
            "clothing orange christmas 2022 https://www.google.com/search?q=%22orange%22+%22clothing%22+%22christmas%202022%22\n",
            "clothing teal christmas 2022 https://www.google.com/search?q=%22teal%22+%22clothing%22+%22christmas%202022%22\n",
            "clothing purple christmas 2022 https://www.google.com/search?q=%22purple%22+%22clothing%22+%22christmas%202022%22\n",
            "clothing green christmas 2022 https://www.google.com/search?q=%22green%22+%22clothing%22+%22christmas%202022%22\n",
            "outerwear orange christmas 2022 https://www.google.com/search?q=%22orange%22+%22outerwear%22+%22christmas%202022%22\n",
            "outerwear teal christmas 2022 https://www.google.com/search?q=%22teal%22+%22outerwear%22+%22christmas%202022%22\n",
            "outerwear purple christmas 2022 https://www.google.com/search?q=%22purple%22+%22outerwear%22+%22christmas%202022%22\n",
            "outerwear green christmas 2022 https://www.google.com/search?q=%22green%22+%22outerwear%22+%22christmas%202022%22\n",
            "streetwear orange christmas 2022 https://www.google.com/search?q=%22orange%22+%22streetwear%22+%22christmas%202022%22\n",
            "streetwear teal christmas 2022 https://www.google.com/search?q=%22teal%22+%22streetwear%22+%22christmas%202022%22\n",
            "streetwear purple christmas 2022 https://www.google.com/search?q=%22purple%22+%22streetwear%22+%22christmas%202022%22\n",
            "streetwear green christmas 2022 https://www.google.com/search?q=%22green%22+%22streetwear%22+%22christmas%202022%22\n"
          ]
        }
      ]
    },
    {
      "cell_type": "markdown",
      "source": [
        "### Add in a specific site"
      ],
      "metadata": {
        "id": "At1dRrHtkGFW"
      }
    },
    {
      "cell_type": "code",
      "source": [
        "## CHANGE ME\n",
        "main_theme = 'christmas 2022'\n",
        "site = 'amazon.com'\n",
        "## STOP\n",
        "\n",
        "for k in key_terms:\n",
        "  for a in additional_terms:\n",
        "    url = '{}\"{}\"+\"{}\"+\"{}\"+site:{}'.format(base_url, a, k, main_theme,site).replace(' ', '%20').replace('\"', '%22')\n",
        "    print(k, a, main_theme, site, url)"
      ],
      "metadata": {
        "colab": {
          "base_uri": "https://localhost:8080/"
        },
        "outputId": "3114b374-d86f-4d95-8a41-82f470a50e95",
        "id": "nooBiBJxj3fM"
      },
      "execution_count": 38,
      "outputs": [
        {
          "output_type": "stream",
          "name": "stdout",
          "text": [
            "clothing orange christmas 2022 amazon.com https://www.google.com/search?q=%22orange%22+%22clothing%22+%22christmas%202022%22+site:amazon.com\n",
            "clothing teal christmas 2022 amazon.com https://www.google.com/search?q=%22teal%22+%22clothing%22+%22christmas%202022%22+site:amazon.com\n",
            "clothing purple christmas 2022 amazon.com https://www.google.com/search?q=%22purple%22+%22clothing%22+%22christmas%202022%22+site:amazon.com\n",
            "clothing green christmas 2022 amazon.com https://www.google.com/search?q=%22green%22+%22clothing%22+%22christmas%202022%22+site:amazon.com\n",
            "outerwear orange christmas 2022 amazon.com https://www.google.com/search?q=%22orange%22+%22outerwear%22+%22christmas%202022%22+site:amazon.com\n",
            "outerwear teal christmas 2022 amazon.com https://www.google.com/search?q=%22teal%22+%22outerwear%22+%22christmas%202022%22+site:amazon.com\n",
            "outerwear purple christmas 2022 amazon.com https://www.google.com/search?q=%22purple%22+%22outerwear%22+%22christmas%202022%22+site:amazon.com\n",
            "outerwear green christmas 2022 amazon.com https://www.google.com/search?q=%22green%22+%22outerwear%22+%22christmas%202022%22+site:amazon.com\n",
            "streetwear orange christmas 2022 amazon.com https://www.google.com/search?q=%22orange%22+%22streetwear%22+%22christmas%202022%22+site:amazon.com\n",
            "streetwear teal christmas 2022 amazon.com https://www.google.com/search?q=%22teal%22+%22streetwear%22+%22christmas%202022%22+site:amazon.com\n",
            "streetwear purple christmas 2022 amazon.com https://www.google.com/search?q=%22purple%22+%22streetwear%22+%22christmas%202022%22+site:amazon.com\n",
            "streetwear green christmas 2022 amazon.com https://www.google.com/search?q=%22green%22+%22streetwear%22+%22christmas%202022%22+site:amazon.com\n"
          ]
        }
      ]
    },
    {
      "cell_type": "markdown",
      "source": [
        "Add in dates + main theme"
      ],
      "metadata": {
        "id": "jIf_0_s_kuPO"
      }
    },
    {
      "cell_type": "code",
      "source": [
        "# http://www.longpelaexpertise.com/toolsJulian.php (for help with Julian dates)\n",
        "\n",
        "## CHANGE ME\n",
        "start_date = 22213\n",
        "end_date = 22335\n",
        "main_theme = 'christmas 2022'\n",
        "## STOP\n",
        "\n",
        "for k in key_terms:\n",
        "  for a in additional_terms:\n",
        "    url = '{}\"{}\"+\"{}\"+\"{}\"+daterange:{}-{}'.format(base_url, a, k, main_theme, start_date, end_date).replace(' ', '%20').replace('\"', '%22')\n",
        "    print(k, a, main_theme, start_date, end_date, url)"
      ],
      "metadata": {
        "colab": {
          "base_uri": "https://localhost:8080/"
        },
        "outputId": "cebaccf7-b70b-4903-f0d2-3da0d29eff27",
        "id": "ufKEubvOj18i"
      },
      "execution_count": 40,
      "outputs": [
        {
          "output_type": "stream",
          "name": "stdout",
          "text": [
            "clothing orange christmas 2022 22213 22335 https://www.google.com/search?q=%22orange%22+%22clothing%22+%22christmas%202022%22+daterange:22213-22335\n",
            "clothing teal christmas 2022 22213 22335 https://www.google.com/search?q=%22teal%22+%22clothing%22+%22christmas%202022%22+daterange:22213-22335\n",
            "clothing purple christmas 2022 22213 22335 https://www.google.com/search?q=%22purple%22+%22clothing%22+%22christmas%202022%22+daterange:22213-22335\n",
            "clothing green christmas 2022 22213 22335 https://www.google.com/search?q=%22green%22+%22clothing%22+%22christmas%202022%22+daterange:22213-22335\n",
            "outerwear orange christmas 2022 22213 22335 https://www.google.com/search?q=%22orange%22+%22outerwear%22+%22christmas%202022%22+daterange:22213-22335\n",
            "outerwear teal christmas 2022 22213 22335 https://www.google.com/search?q=%22teal%22+%22outerwear%22+%22christmas%202022%22+daterange:22213-22335\n",
            "outerwear purple christmas 2022 22213 22335 https://www.google.com/search?q=%22purple%22+%22outerwear%22+%22christmas%202022%22+daterange:22213-22335\n",
            "outerwear green christmas 2022 22213 22335 https://www.google.com/search?q=%22green%22+%22outerwear%22+%22christmas%202022%22+daterange:22213-22335\n",
            "streetwear orange christmas 2022 22213 22335 https://www.google.com/search?q=%22orange%22+%22streetwear%22+%22christmas%202022%22+daterange:22213-22335\n",
            "streetwear teal christmas 2022 22213 22335 https://www.google.com/search?q=%22teal%22+%22streetwear%22+%22christmas%202022%22+daterange:22213-22335\n",
            "streetwear purple christmas 2022 22213 22335 https://www.google.com/search?q=%22purple%22+%22streetwear%22+%22christmas%202022%22+daterange:22213-22335\n",
            "streetwear green christmas 2022 22213 22335 https://www.google.com/search?q=%22green%22+%22streetwear%22+%22christmas%202022%22+daterange:22213-22335\n"
          ]
        }
      ]
    },
    {
      "cell_type": "markdown",
      "source": [
        "### Writing it out to CSV which you can open in Excel or Sheets"
      ],
      "metadata": {
        "id": "CPhQ1qnRlXDV"
      }
    },
    {
      "cell_type": "code",
      "source": [
        "## Writing to a CSV\n",
        "main_theme = 'christmas 2022'\n",
        "site = 'amazon.com'\n",
        "## STOP\n",
        "\n",
        "\n",
        "import csv\n",
        "\n",
        "\n",
        "with open('christmas_amazon_clothing_research.csv', 'w') as wfile:\n",
        "  csv_writer = csv.writer(wfile)\n",
        "\n",
        "  csv_writer.writerow(['clothing_item', 'color', 'main_theme', 'site', 'url'])\n",
        "  for k in key_terms:\n",
        "    for a in additional_terms:\n",
        "      url = '{}\"{}\"+\"{}\"+\"{}\"+site:{}'.format(base_url, a, k, main_theme,site).replace(' ', '%20').replace('\"', '%22')\n",
        "      csv_writer.writerow([k, a, main_theme, site, url])"
      ],
      "metadata": {
        "id": "HFQmYuOTdU5w"
      },
      "execution_count": 41,
      "outputs": []
    },
    {
      "cell_type": "markdown",
      "source": [
        "### Wrap-Up"
      ],
      "metadata": {
        "id": "A_Q2y5OumLG5"
      }
    },
    {
      "cell_type": "markdown",
      "source": [
        "Thanks for checking out my channel. If you have any questions, or want to see more like this, comment on my [channel (Hedgie Tutorials)](https://www.youtube.com/channel/UC7wOrinzjDTAFlZIlkSwwJw) -- thanks!"
      ],
      "metadata": {
        "id": "k8GTITmQmN95"
      }
    },
    {
      "cell_type": "code",
      "source": [],
      "metadata": {
        "id": "aW_7WnSImqbm"
      },
      "execution_count": null,
      "outputs": []
    }
  ]
}
